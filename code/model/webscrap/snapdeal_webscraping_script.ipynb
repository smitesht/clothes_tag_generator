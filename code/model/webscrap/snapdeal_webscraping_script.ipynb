{
 "cells": [
  {
   "cell_type": "code",
   "execution_count": 1,
   "metadata": {},
   "outputs": [],
   "source": [
    "import os\n",
    "import os.path\n",
    "import numpy as np\n",
    "import pandas as pd\n",
    "from tqdm import tqdm\n",
    "import requests, json\n",
    "import re\n",
    "from bs4 import BeautifulSoup, Tag\n",
    "import uuid\n",
    "import time\n",
    "import warnings\n",
    "warnings.filterwarnings(\"ignore\")"
   ]
  },
  {
   "cell_type": "markdown",
   "metadata": {},
   "source": [
    "# Part 1\n",
    "\n",
    "The Webscraping script is to download clothes images(particularly) girl's Top along with some details such as type of sleeves, type of neck, type of top.\n",
    "\n",
    "The script is in two Part,\n",
    "\n",
    "Part 1: Create multiple CSV file which contain image urls and image captions. Each multiple CSV files then combine in one for preprocessing such as remove duplicate urls\n",
    "\n",
    "Part 2: Browse individual urls from the CSV, then download and list all the image captions in text file"
   ]
  },
  {
   "cell_type": "code",
   "execution_count": 2,
   "metadata": {},
   "outputs": [],
   "source": [
    "def get_next_20_items(counter):\n",
    "    \n",
    "    page_url = \"https://www.snapdeal.com/acors/json/product/get/search/745/\" + str(counter) + \"/20?q=&sort=plrty\"\n",
    "    \n",
    "    res = requests.get(url=page_url)\n",
    "\n",
    "    item_list = []\n",
    "    \n",
    "    if res.status_code == 200:\n",
    "        soup = BeautifulSoup(res.text,'html.parser')    \n",
    "        product_tupple_images = soup.find_all('div',{'class':'product-tuple-image'})\n",
    "        product_descs = soup.find_all('div',{'class':'product-desc-rating'})\n",
    "        \n",
    "        for product_image, prod_desc in zip(product_tupple_images,product_descs):\n",
    "            \n",
    "            item_detail = {}\n",
    "            prod_link = product_image.find('a',{'class':'dp-widget-link'})\n",
    "            item_detail['item_link'] = prod_link['href'].strip()\n",
    "            \n",
    "           \n",
    "            prod_image_link = product_image.find('source',{'class':'product-image'})  \n",
    "            item_detail['item_image_link'] = prod_image_link['srcset'].strip()\n",
    "             \n",
    "            \n",
    "            prod_desc_link = prod_desc.find('a',{'class':'dp-widget-link noUdLine'})\n",
    "            item_detail['prod_desc_link'] = prod_desc_link['href'].strip()\n",
    "            \n",
    "            prod_title = prod_desc.find('p',{'class':'product-title'})\n",
    "            item_detail['prod_title'] = prod_title.text.strip()\n",
    "            \n",
    "            item_list.append(item_detail)   \n",
    "    \n",
    "    return item_list\n"
   ]
  },
  {
   "cell_type": "code",
   "execution_count": 3,
   "metadata": {},
   "outputs": [],
   "source": [
    "def process_next_100_images(counter):\n",
    "    \n",
    "    min_range = (counter * 5) - 5\n",
    "    max_range = (min_range + 5)\n",
    "    \n",
    "    total_products = []\n",
    "    \n",
    "    for indx in tqdm(range(min_range,max_range)):\n",
    "        page_count_start = 20 * indx\n",
    "        file_counter = 100 * counter\n",
    "               \n",
    "    \n",
    "        item_list = get_next_20_items(page_count_start)\n",
    "        \n",
    "        for item in item_list:\n",
    "            total_products.append(item) \n",
    "    \n",
    "    return total_products"
   ]
  },
  {
   "cell_type": "code",
   "execution_count": 4,
   "metadata": {},
   "outputs": [],
   "source": [
    "def generate_next_100_records(counter):\n",
    "    total_products = process_next_100_images(counter)\n",
    "    df = pd.DataFrame(data=total_products)\n",
    "    unique_df = df[df.duplicated() == False]\n",
    "    if unique_df.empty == False:\n",
    "        counter_100 = counter * 100\n",
    "        UNIQUE_URL_CSV_FILE = './snapdeal_data/csvfiles/unique_urls_' + str(counter_100) + \".csv\"\n",
    "        unique_df.to_csv(UNIQUE_URL_CSV_FILE,index=False)"
   ]
  },
  {
   "cell_type": "markdown",
   "metadata": {},
   "source": [
    "### Create CSV file of unique_urls that contain product details and its image"
   ]
  },
  {
   "cell_type": "code",
   "execution_count": 6,
   "metadata": {},
   "outputs": [
    {
     "name": "stderr",
     "output_type": "stream",
     "text": [
      "100%|██████████| 5/5 [00:05<00:00,  1.12s/it]\n",
      "100%|██████████| 5/5 [00:04<00:00,  1.21it/s]\n",
      "100%|██████████| 5/5 [00:03<00:00,  1.30it/s]\n",
      "100%|██████████| 5/5 [00:03<00:00,  1.31it/s]\n",
      "100%|██████████| 5/5 [00:04<00:00,  1.25it/s]\n",
      "100%|██████████| 5/5 [00:04<00:00,  1.13it/s]\n",
      "100%|██████████| 5/5 [00:04<00:00,  1.12it/s]\n",
      "100%|██████████| 5/5 [00:05<00:00,  1.04s/it]\n",
      "100%|██████████| 5/5 [00:04<00:00,  1.12it/s]\n",
      "100%|██████████| 5/5 [00:04<00:00,  1.22it/s]\n",
      "100%|██████████| 5/5 [00:04<00:00,  1.15it/s]\n",
      "100%|██████████| 5/5 [00:04<00:00,  1.18it/s]\n",
      "100%|██████████| 5/5 [00:04<00:00,  1.25it/s]\n",
      "100%|██████████| 5/5 [00:04<00:00,  1.12it/s]\n",
      "100%|██████████| 5/5 [00:03<00:00,  1.27it/s]\n",
      "100%|██████████| 5/5 [00:04<00:00,  1.18it/s]\n",
      "100%|██████████| 5/5 [00:04<00:00,  1.19it/s]\n",
      "100%|██████████| 5/5 [00:04<00:00,  1.18it/s]\n",
      "100%|██████████| 5/5 [00:04<00:00,  1.08it/s]\n",
      "100%|██████████| 5/5 [00:04<00:00,  1.08it/s]\n",
      "100%|██████████| 5/5 [00:03<00:00,  1.65it/s]\n",
      "100%|██████████| 5/5 [00:02<00:00,  1.98it/s]\n",
      "100%|██████████| 5/5 [00:02<00:00,  1.96it/s]\n",
      "100%|██████████| 5/5 [00:02<00:00,  1.93it/s]\n"
     ]
    }
   ],
   "source": [
    "SNAPDEAL_DATASET_DIR = './snapdeal_data/csvfiles/'\n",
    "\n",
    "if not os.path.exists(SNAPDEAL_DATASET_DIR):\n",
    "    os.makedirs(SNAPDEAL_DATASET_DIR)\n",
    "\n",
    "for indx in range(1,25):\n",
    "    generate_next_100_records(indx)"
   ]
  },
  {
   "cell_type": "markdown",
   "metadata": {},
   "source": [
    "### Remove duplicate urls "
   ]
  },
  {
   "cell_type": "code",
   "execution_count": 9,
   "metadata": {},
   "outputs": [
    {
     "name": "stdout",
     "output_type": "stream",
     "text": [
      "./snapdeal_data/csvfiles/unique_urls_100.csv\n",
      "(78, 4)\n",
      "./snapdeal_data/csvfiles/unique_urls_200.csv\n",
      "(88, 4)\n",
      "./snapdeal_data/csvfiles/unique_urls_300.csv\n",
      "(94, 4)\n",
      "./snapdeal_data/csvfiles/unique_urls_400.csv\n",
      "(87, 4)\n",
      "./snapdeal_data/csvfiles/unique_urls_500.csv\n",
      "(96, 4)\n",
      "./snapdeal_data/csvfiles/unique_urls_600.csv\n",
      "(93, 4)\n",
      "./snapdeal_data/csvfiles/unique_urls_700.csv\n",
      "(95, 4)\n",
      "./snapdeal_data/csvfiles/unique_urls_800.csv\n",
      "(90, 4)\n",
      "./snapdeal_data/csvfiles/unique_urls_900.csv\n",
      "(91, 4)\n",
      "./snapdeal_data/csvfiles/unique_urls_1000.csv\n",
      "(99, 4)\n",
      "./snapdeal_data/csvfiles/unique_urls_1100.csv\n",
      "(100, 4)\n",
      "./snapdeal_data/csvfiles/unique_urls_1200.csv\n",
      "(82, 4)\n",
      "./snapdeal_data/csvfiles/unique_urls_1300.csv\n",
      "(99, 4)\n",
      "./snapdeal_data/csvfiles/unique_urls_1400.csv\n",
      "(98, 4)\n",
      "./snapdeal_data/csvfiles/unique_urls_1500.csv\n",
      "(69, 4)\n",
      "./snapdeal_data/csvfiles/unique_urls_1600.csv\n",
      "(96, 4)\n",
      "./snapdeal_data/csvfiles/unique_urls_1700.csv\n",
      "(83, 4)\n",
      "./snapdeal_data/csvfiles/unique_urls_1800.csv\n",
      "(99, 4)\n",
      "./snapdeal_data/csvfiles/unique_urls_1900.csv\n",
      "(89, 4)\n",
      "./snapdeal_data/csvfiles/unique_urls_2000.csv\n",
      "(96, 4)\n",
      "./snapdeal_data/csvfiles/unique_urls_2100.csv\n",
      "(20, 4)\n"
     ]
    }
   ],
   "source": [
    "files = os.listdir('./snapdeal_data/csvfiles/')\n",
    "files.sort(key=lambda f: int(re.sub('\\D', '', f)))\n",
    "full_df = []\n",
    "for file_name in files:\n",
    "    full_unique_urls_csv_path = './snapdeal_data/csvfiles/' + file_name\n",
    "    print(full_unique_urls_csv_path)\n",
    "    df = pd.read_csv(full_unique_urls_csv_path)\n",
    "    print(df.shape)\n",
    "    full_df.append(df)\n",
    "    \n",
    "\n",
    "result_df = pd.concat(full_df)\n",
    "\n",
    "result_df = result_df[result_df.duplicated() == False]\n",
    "\n",
    "SNAPDEAL_FILTERED_DATASET_URL_CSV = './snapdeal_data/filtered_csv/'\n",
    "\n",
    "if not os.path.exists(SNAPDEAL_FILTERED_DATASET_URL_CSV):\n",
    "    os.makedirs(SNAPDEAL_FILTERED_DATASET_URL_CSV)\n",
    "\n",
    "result_df.to_csv('./snapdeal_data/filtered_csv/filtered_001.csv',index=False)"
   ]
  },
  {
   "cell_type": "markdown",
   "metadata": {},
   "source": [
    "# Part 2\n",
    "\n",
    "Download Each images from the unique url csv file and generate captions or tags from the url"
   ]
  },
  {
   "cell_type": "code",
   "execution_count": 10,
   "metadata": {},
   "outputs": [],
   "source": [
    "def create_image_folder():\n",
    "    image_filder_path = './snapdeal_data/tops/images/'\n",
    "    caption_file = './snapdeal_data/tops/top_captions.txt'\n",
    "    log_file = './snapdeal_data/tops/logfile.log' \n",
    "    \n",
    "    if not os.path.exists(image_filder_path):\n",
    "        os.makedirs(image_filder_path)\n",
    "        \n",
    "    file_caption = open(caption_file,'a+')        \n",
    "    \n",
    "    log_file = open(log_file,'a+')\n",
    "    \n",
    "    return image_filder_path, file_caption, log_file"
   ]
  },
  {
   "cell_type": "code",
   "execution_count": 11,
   "metadata": {},
   "outputs": [],
   "source": [
    "def download_image(image_url, image_folder_path):\n",
    "    img_data = requests.get(image_url).content\n",
    "    myuuid = uuid.uuid4()\n",
    "    extension = os.path.splitext(image_url)[1]\n",
    "    file_name = str(myuuid) + extension         \n",
    "    image_with_path = os.path.join(image_folder_path,file_name)\n",
    "    \n",
    "    with open(image_with_path, 'wb') as handler:\n",
    "        handler.write(img_data)\n",
    "\n",
    "    return file_name"
   ]
  },
  {
   "cell_type": "code",
   "execution_count": 12,
   "metadata": {},
   "outputs": [],
   "source": [
    "def get_product_tags(product_desc_list):\n",
    "    tag_list = ['Type:','Sleeves Length:','Neck Shape:','Sleeves Type:','Neck & Collar:']\n",
    "    \n",
    "    product_tag = {}\n",
    "    product_processed_tag = \"\"\n",
    "    \n",
    "    for tag in tag_list:   \n",
    "        ressults = [pd for pd in product_desc_list if pd.startswith(tag)]\n",
    "        \n",
    "        \n",
    "        for result in ressults:\n",
    "            if len(result) > 0:\n",
    "                \n",
    "                product_tag[tag[:-1]] = result.split(':')[1]\n",
    "                tag_value = result.split(':')[1]\n",
    "                tag_value = tag_value.replace(\" \",\"\")\n",
    "                product_processed_tag = product_processed_tag + tag_value + \"|\"\n",
    "    \n",
    "    product_processed_tag = product_processed_tag[:-1]\n",
    "    return product_tag, product_processed_tag"
   ]
  },
  {
   "cell_type": "code",
   "execution_count": 13,
   "metadata": {},
   "outputs": [],
   "source": [
    "def access_product_page(prod_url):\n",
    "    res = requests.get(url=prod_url)\n",
    "    \n",
    "    product_description_list = []\n",
    "    \n",
    "    if res.status_code == 200:\n",
    "        soup = BeautifulSoup(res.text,'html.parser')    \n",
    "        item_details = soup.find_all('li',{'class':'col-xs-8 dtls-li'})\n",
    "        \n",
    "        for item in item_details:\n",
    "            item_val = item.find_all('span',{'class':'h-content'})\n",
    "            item_val = item_val[0].get_text()\n",
    "            product_description_list.append(item_val)       \n",
    "\n",
    "    \n",
    "    product_tags = get_product_tags(product_desc_list=product_description_list)\n",
    "    return product_tags\n",
    "    "
   ]
  },
  {
   "cell_type": "code",
   "execution_count": 14,
   "metadata": {},
   "outputs": [
    {
     "name": "stderr",
     "output_type": "stream",
     "text": [
      "1292it [50:45,  2.36s/it]\n"
     ]
    }
   ],
   "source": [
    "image_file_path, caption_file, log_file = create_image_folder()\n",
    "\n",
    "df = pd.read_csv('./snapdeal_data/filtered_csv/filtered_001.csv')\n",
    "\n",
    "for item_link, item_image_link in tqdm(zip(df['item_link'],df['item_image_link'])):\n",
    "    log_item = {}\n",
    "    image_url = item_image_link\n",
    "    product_image_file = download_image(image_url,image_file_path)\n",
    "    \n",
    "    item_url = item_link\n",
    "    product_tags, image_processed_tags = access_product_page(prod_url=item_url)\n",
    "    image_processed_tags = product_image_file +\",\"+image_processed_tags      \n",
    "    caption_file.writelines(image_processed_tags+\"\\n\")\n",
    "    \n",
    "    log_item['item_link'] = item_url\n",
    "    log_item['item_image_link'] = image_url\n",
    "    log_item['product_all_tags'] = product_tags\n",
    "    log_item['image_processed_tags'] = image_processed_tags\n",
    "    log_item['image_file_location']= image_file_path + product_image_file \n",
    "    \n",
    "    str_item = json.dumps(log_item)\n",
    "    log_file.writelines(str_item + \"\\n\")\n",
    "    \n",
    "caption_file.close()\n",
    "log_file.close()"
   ]
  }
 ],
 "metadata": {
  "kernelspec": {
   "display_name": "Python 3.9.13 ('tf')",
   "language": "python",
   "name": "python3"
  },
  "language_info": {
   "codemirror_mode": {
    "name": "ipython",
    "version": 3
   },
   "file_extension": ".py",
   "mimetype": "text/x-python",
   "name": "python",
   "nbconvert_exporter": "python",
   "pygments_lexer": "ipython3",
   "version": "3.9.13"
  },
  "orig_nbformat": 4,
  "vscode": {
   "interpreter": {
    "hash": "4d0854b407a40332b19a96825cf1f957e2530b55a5279f7aa9ff0d4076e2cd21"
   }
  }
 },
 "nbformat": 4,
 "nbformat_minor": 2
}
