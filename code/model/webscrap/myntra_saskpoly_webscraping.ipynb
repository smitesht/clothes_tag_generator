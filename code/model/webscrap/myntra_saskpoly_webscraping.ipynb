{
 "cells": [
  {
   "cell_type": "code",
   "execution_count": 6,
   "metadata": {},
   "outputs": [],
   "source": [
    "import os\n",
    "import os.path\n",
    "from tqdm import tqdm\n",
    "import requests, json\n",
    "import re\n",
    "from bs4 import BeautifulSoup\n",
    "import uuid\n",
    "import warnings\n",
    "warnings.filterwarnings(\"ignore\")"
   ]
  },
  {
   "cell_type": "code",
   "execution_count": 7,
   "metadata": {},
   "outputs": [],
   "source": [
    "BASE_URL = \"https://www.myntra.com/\"\n",
    "headers = {'User-Agent' : 'Mozilla/5.0 (Macintosh; Intel Mac OS X 10_14_5) AppleWebKit/537.36 (KHTML, like Gecko) Chrome/84.0.4147.89 Safari/537.36'}\n",
    "BASE_DIR = './myntra/clothes/'\n",
    "IMAGE_DIR = \"images/\"\n",
    "caption_file = None"
   ]
  },
  {
   "cell_type": "code",
   "execution_count": 8,
   "metadata": {},
   "outputs": [],
   "source": [
    "def url_list_file_creation():\n",
    "    if not os.path.exists(BASE_DIR):\n",
    "        os.makedirs(BASE_DIR)\n",
    "    \n",
    "    \n",
    "    if not os.path.exists(BASE_DIR + IMAGE_DIR):\n",
    "        os.makedirs(BASE_DIR  + IMAGE_DIR) \n",
    "        \n",
    "    caption_file_path = BASE_DIR + \"full_url_list.csv\"\n",
    "    caption_file = open(caption_file_path,'a+')\n",
    "    return caption_file"
   ]
  },
  {
   "cell_type": "code",
   "execution_count": 9,
   "metadata": {},
   "outputs": [],
   "source": [
    "def extract_landing_page(counter):\n",
    "    landing_urls = []\n",
    "    short_url = \"tops?p=\" + str(counter)\n",
    "    s = requests.Session()\n",
    "    full_url = os.path.join(BASE_URL,short_url)\n",
    "    res = s.get(full_url, headers=headers, verify=False)\n",
    "    match = re.findall(r\"<script>window.__myx = (.+?)</script>\", res.text)\n",
    "\n",
    "    json_data = json.loads(match[0])\n",
    "    results = json_data['searchData']['results']\n",
    "    results = results['products']\n",
    "\n",
    "    for result in results:\n",
    "        landing_url = result['landingPageUrl']\n",
    "        full_landing_url = os.path.join(BASE_URL,landing_url)\n",
    "        landing_urls.append(full_landing_url)\n",
    "        \n",
    "    for landing_url in landing_urls:\n",
    "        caption_file.write(landing_url + \"\\n\")"
   ]
  },
  {
   "cell_type": "code",
   "execution_count": 10,
   "metadata": {},
   "outputs": [
    {
     "name": "stderr",
     "output_type": "stream",
     "text": [
      "100%|\u001b[32m██████████\u001b[0m| 20/20 [00:16<00:00,  1.20it/s]\n"
     ]
    }
   ],
   "source": [
    "START_PAGE = 1\n",
    "END_PAGE = 20\n",
    "\n",
    "caption_file = url_list_file_creation()\n",
    "\n",
    "for index in tqdm(range(START_PAGE,(END_PAGE+1)),colour=\"green\"):\n",
    "    extract_landing_page(index)\n",
    "    \n",
    "caption_file.close()"
   ]
  }
 ],
 "metadata": {
  "kernelspec": {
   "display_name": "Python 3.9.13 ('tf')",
   "language": "python",
   "name": "python3"
  },
  "language_info": {
   "codemirror_mode": {
    "name": "ipython",
    "version": 3
   },
   "file_extension": ".py",
   "mimetype": "text/x-python",
   "name": "python",
   "nbconvert_exporter": "python",
   "pygments_lexer": "ipython3",
   "version": "3.9.13"
  },
  "orig_nbformat": 4,
  "vscode": {
   "interpreter": {
    "hash": "4d0854b407a40332b19a96825cf1f957e2530b55a5279f7aa9ff0d4076e2cd21"
   }
  }
 },
 "nbformat": 4,
 "nbformat_minor": 2
}
