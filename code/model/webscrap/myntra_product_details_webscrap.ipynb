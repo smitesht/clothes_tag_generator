{
 "cells": [
  {
   "cell_type": "code",
   "execution_count": 1,
   "metadata": {},
   "outputs": [],
   "source": [
    "import os\n",
    "import os.path\n",
    "from tqdm import tqdm\n",
    "import requests, json\n",
    "import re\n",
    "from bs4 import BeautifulSoup\n",
    "import uuid\n",
    "import warnings\n",
    "warnings.filterwarnings(\"ignore\")\n"
   ]
  },
  {
   "cell_type": "code",
   "execution_count": 2,
   "metadata": {},
   "outputs": [],
   "source": [
    "BASE_URL = \"https://www.myntra.com/\"\n",
    "headers = {'User-Agent' : 'Mozilla/5.0 (Macintosh; Intel Mac OS X 10_14_5) AppleWebKit/537.36 (KHTML, like Gecko) Chrome/84.0.4147.89 Safari/537.36'}\n",
    "BASE_DIR = './myntra/clothes/'\n",
    "IMAGE_DIR = \"images/\"\n",
    "caption_tags_file = \"caption_tags_file.csv\"\n"
   ]
  },
  {
   "cell_type": "code",
   "execution_count": 3,
   "metadata": {},
   "outputs": [],
   "source": [
    "def download_image(image_url):\n",
    "    if not os.path.exists(os.path.join(BASE_DIR,IMAGE_DIR)):\n",
    "        os.makedirs(os.path.join(BASE_DIR,IMAGE_DIR))\n",
    "        \n",
    "    img_data = requests.get(image_url).content\n",
    "    myuuid = uuid.uuid4()\n",
    "    extension = os.path.splitext(image_url)[1]\n",
    "    file_name = str(myuuid) + extension    \n",
    "    image_with_path = os.path.join(BASE_DIR + IMAGE_DIR,file_name)\n",
    "    with open(image_with_path, 'wb') as handler:\n",
    "        handler.write(img_data)\n",
    "    \n",
    "    return file_name"
   ]
  },
  {
   "cell_type": "code",
   "execution_count": 4,
   "metadata": {},
   "outputs": [],
   "source": [
    "def get_image_caption(json_data):\n",
    "    image_caption = \"\"\n",
    "    article_details = json_data['pdpData']['articleAttributes']  \n",
    "    \n",
    "    sleeve_length = article_details.get('Sleeve Length')    \n",
    "    if sleeve_length:\n",
    "        sleeve_length = article_details['Sleeve Length']\n",
    "        sleeve_length = sleeve_length.replace(' ','')\n",
    "        image_caption = image_caption + sleeve_length + \"|\"\n",
    "    \n",
    "    neck_style = article_details.get('Neck')\n",
    "    if neck_style:\n",
    "        neck_style = article_details['Neck']\n",
    "        neck_style = neck_style.replace(' ','')\n",
    "        image_caption = image_caption + neck_style + \"|\"\n",
    "    \n",
    "    sleeve_style = article_details.get('Sleeve Styling')\n",
    "    if sleeve_style:\n",
    "        sleeve_style = article_details['Sleeve Styling']\n",
    "        sleeve_style = sleeve_style.replace(' ','')        \n",
    "        image_caption = image_caption + sleeve_style\n",
    "    \n",
    "    if image_caption[-1] == '|':\n",
    "        image_caption = image_caption[:(len(image_caption))-1]\n",
    "    \n",
    "    \n",
    "    return image_caption"
   ]
  },
  {
   "cell_type": "code",
   "execution_count": 5,
   "metadata": {},
   "outputs": [],
   "source": [
    "def extract_url_details(landing_url):\n",
    "    headers = {'User-Agent' : 'Mozilla/5.0 (Macintosh; Intel Mac OS X 10_14_5) AppleWebKit/537.36 (KHTML, like Gecko) Chrome/84.0.4147.89 Safari/537.36'}\n",
    "    \n",
    "    s = requests.Session()\n",
    "    res = s.get(landing_url.strip(), headers=headers, verify=False)\n",
    "    match = re.findall(r\"<script>window.__myx = (.+?)</script>\", res.text)\n",
    "    \n",
    "    json_data = json.loads(match[0])\n",
    "    product_title = json_data['pdpData']['productDetails']\n",
    "\n",
    "    images = json_data['pdpData']['media']\n",
    "    image_url = images['albums'][0]['images'][0]['src']\n",
    "    \n",
    "    image_file_name = download_image(image_url=image_url)       \n",
    "\n",
    "    image_caption = get_image_caption(json_data=json_data)\n",
    "    image_caption = \"{}, {}\\n\".format(image_file_name, image_caption)\n",
    "    \n",
    "    image_dir = BASE_DIR + \"caption_tags_file.csv\"\n",
    "    caption_file_handle = open(image_dir,'a+')\n",
    "    caption_file_handle.write(image_caption)"
   ]
  },
  {
   "cell_type": "code",
   "execution_count": 6,
   "metadata": {},
   "outputs": [],
   "source": [
    "def test_fun(url):\n",
    "    s = requests.Session()\n",
    "    res = s.get(\"https://www.myntra.com/tops/paralians/paralians-blue-embroidered-crop-top/18413448/buy\", headers=headers, verify=False)\n",
    "    match = re.findall(r\"<script>window.__myx = (.+?)</script>\", res.text)\n",
    "\n",
    "    json_data = json.loads(match[0])\n",
    "    product_title = json_data['pdpData']['productDetails']\n",
    "\n",
    "    images = json_data['pdpData']['media']\n",
    "    image_url = images['albums'][0]['images'][0]['src']\n",
    "    print(image_url)"
   ]
  },
  {
   "cell_type": "code",
   "execution_count": 7,
   "metadata": {},
   "outputs": [
    {
     "name": "stderr",
     "output_type": "stream",
     "text": [
      "100%|\u001b[32m██████████\u001b[0m| 300/300 [10:43<00:00,  2.14s/it]\n"
     ]
    }
   ],
   "source": [
    "\n",
    "url_list_path = BASE_DIR + \"full_url_list.csv\"\n",
    "url_list_path_handle = open(url_list_path,'r+')\n",
    "\n",
    "url_list = []\n",
    "for url in url_list_path_handle:\n",
    "    url_list.append(url)\n",
    "\n",
    "for url in tqdm(url_list[:300],colour=\"green\"):\n",
    "    extract_url_details(url)\n"
   ]
  }
 ],
 "metadata": {
  "kernelspec": {
   "display_name": "Python 3.9.13 ('tf')",
   "language": "python",
   "name": "python3"
  },
  "language_info": {
   "codemirror_mode": {
    "name": "ipython",
    "version": 3
   },
   "file_extension": ".py",
   "mimetype": "text/x-python",
   "name": "python",
   "nbconvert_exporter": "python",
   "pygments_lexer": "ipython3",
   "version": "3.9.13"
  },
  "orig_nbformat": 4,
  "vscode": {
   "interpreter": {
    "hash": "4d0854b407a40332b19a96825cf1f957e2530b55a5279f7aa9ff0d4076e2cd21"
   }
  }
 },
 "nbformat": 4,
 "nbformat_minor": 2
}
